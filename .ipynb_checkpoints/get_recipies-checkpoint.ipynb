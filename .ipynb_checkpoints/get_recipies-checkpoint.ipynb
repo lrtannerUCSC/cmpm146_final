{
 "cells": [
  {
   "cell_type": "code",
   "execution_count": 25,
   "id": "a881be1d-7b32-4532-981e-a94ef00c91f4",
   "metadata": {},
   "outputs": [],
   "source": [
    "import requests\n",
    "import json\n",
    "import pandas as pd"
   ]
  },
  {
   "cell_type": "code",
   "execution_count": null,
   "id": "a27e9526-f704-4a94-a8fe-1dc5cd32837f",
   "metadata": {},
   "outputs": [
    {
     "ename": "",
     "evalue": "",
     "output_type": "error",
     "traceback": [
      "\u001b[1;31mRunning cells with 'Python 3.10.2' requires the ipykernel package.\n",
      "\u001b[1;31mRun the following command to install 'ipykernel' into the Python environment. \n",
      "\u001b[1;31mCommand: 'c:/Users/ticky/AppData/Local/Programs/Python/Python310/python.exe -m pip install ipykernel -U --user --force-reinstall'"
     ]
    }
   ],
   "source": [
    "def get_random_recipe():\n",
    "    url = \"https://www.themealdb.com/api/json/v1/1/random.php\"\n",
    "    response = requests.get(url)\n",
    "    \n",
    "    if response.status_code == 200:\n",
    "        data = response.json()\n",
    "        meal = data['meals'][0]\n",
    "\n",
    "        instructions_list = meal['strInstructions'].split('. ')\n",
    "        recipe = {\n",
    "            'id': meal['idMeal'],\n",
    "            'name': meal['strMeal'],\n",
    "            'category': meal['strCategory'],\n",
    "            'area': meal['strArea'],\n",
    "            'tags': meal['strTags'],\n",
    "            'instructions': instructions_list,\n",
    "            'ingredients': []\n",
    "        }\n",
    "        \n",
    "        for i in range(1, 21):\n",
    "            ingredient = meal[f'strIngredient{i}']\n",
    "            measurement = meal[f'strMeasure{i}']\n",
    "            if ingredient:\n",
    "                recipe['ingredients'].append((ingredient, measurement))\n",
    "        \n",
    "        return recipe\n",
    "    else:\n",
    "        return None"
   ]
  },
  {
   "cell_type": "code",
   "execution_count": 21,
   "id": "448d9ae1-257f-4b8b-bcd5-63a422388776",
   "metadata": {},
   "outputs": [],
   "source": [
    "recipe = get_random_recipe()"
   ]
  },
  {
   "cell_type": "code",
   "execution_count": null,
   "id": "64ff72dc-1e5c-46ac-94c2-43a7cf052c15",
   "metadata": {},
   "outputs": [],
   "source": [
    "recipes = []\n",
    "for _ in range(1000):\n",
    "    recipe = get_random_recipe()\n",
    "    if recipe:\n",
    "        recipes.append(recipe)\n",
    "    else:\n",
    "        print(\"Something went wrong\")"
   ]
  },
  {
   "cell_type": "code",
   "execution_count": 26,
   "id": "a78153b1-f0ae-42fa-80ea-ccde7e6f81f0",
   "metadata": {},
   "outputs": [],
   "source": [
    "df = pd.DataFrame(recipes)\n",
    "df.to_csv('recipes.csv', index=False)"
   ]
  },
  {
   "cell_type": "code",
   "execution_count": null,
   "id": "c1fbbcd1-7b9e-413a-aba1-c2666ccb9cb4",
   "metadata": {},
   "outputs": [],
   "source": [
    "unique_ingredients = set()\n",
    "unique_tags = set()\n",
    "for recipe in recipes:\n",
    "    for ingredient, _ in recipe['ingredients']:\n",
    "        unique_ingredients.add(ingredient.lower())\n",
    "    for tag in recipe['tags'].split(','):\n",
    "        unique_tags.add(tag.lower())"
   ]
  },
  {
   "cell_type": "code",
   "execution_count": 38,
   "id": "b44b82c6-a46b-42aa-88fd-aab9e3c3ab98",
   "metadata": {},
   "outputs": [
    {
     "data": {
      "text/plain": [
       "538"
      ]
     },
     "execution_count": 38,
     "metadata": {},
     "output_type": "execute_result"
    }
   ],
   "source": [
    "len(unique_ingredients)"
   ]
  },
  {
   "cell_type": "code",
   "execution_count": 40,
   "id": "d3e4e264-e459-4ffb-af65-5aa726fff791",
   "metadata": {},
   "outputs": [],
   "source": [
    "singular_plural_map = {}\n",
    "for ingredient in unique_ingredients:\n",
    "    if ingredient.endswith('s'):\n",
    "        singular = ingredient[:-1]\n",
    "        if singular in unique_ingredients:\n",
    "            singular_plural_map[ingredient] = singular\n",
    "\n",
    "for plural, singular in singular_plural_map.items():\n",
    "    unique_ingredients.remove(plural)"
   ]
  },
  {
   "cell_type": "code",
   "execution_count": 41,
   "id": "144769bb-094d-4c79-82c8-f89365906741",
   "metadata": {},
   "outputs": [
    {
     "name": "stdout",
     "output_type": "stream",
     "text": [
      "{'chicken breasts': 'chicken breast', 'carrots': 'carrot', 'eggs': 'egg', 'cloves': 'clove', 'buns': 'bun', 'lemons': 'lemon', 'onions': 'onion'}\n"
     ]
    }
   ],
   "source": [
    "print(singular_plural_map)"
   ]
  },
  {
   "cell_type": "code",
   "execution_count": 42,
   "id": "4ec2de29-369d-4de3-9ba6-64460dd6016d",
   "metadata": {},
   "outputs": [
    {
     "data": {
      "text/plain": [
       "531"
      ]
     },
     "execution_count": 42,
     "metadata": {},
     "output_type": "execute_result"
    }
   ],
   "source": [
    "len(unique_ingredients)"
   ]
  },
  {
   "cell_type": "code",
   "execution_count": 43,
   "id": "6cb52459-146b-4157-94fe-9dab7919b791",
   "metadata": {},
   "outputs": [],
   "source": [
    "with open('unique_ingredients.txt', 'w') as f:\n",
    "    for ingredient in sorted(unique_ingredients):\n",
    "        f.write(f\"{ingredient}\\n\")"
   ]
  },
  {
   "cell_type": "code",
   "execution_count": null,
   "id": "a86cb1aa-4951-4a6d-a78e-d34ed58c9e79",
   "metadata": {},
   "outputs": [],
   "source": []
  }
 ],
 "metadata": {
  "kernelspec": {
   "display_name": "Python 3",
   "language": "python",
   "name": "python3"
  },
  "language_info": {
   "codemirror_mode": {
    "name": "ipython",
    "version": 3
   },
   "file_extension": ".py",
   "mimetype": "text/x-python",
   "name": "python",
   "nbconvert_exporter": "python",
   "pygments_lexer": "ipython3",
   "version": "3.10.2"
  }
 },
 "nbformat": 4,
 "nbformat_minor": 5
}
